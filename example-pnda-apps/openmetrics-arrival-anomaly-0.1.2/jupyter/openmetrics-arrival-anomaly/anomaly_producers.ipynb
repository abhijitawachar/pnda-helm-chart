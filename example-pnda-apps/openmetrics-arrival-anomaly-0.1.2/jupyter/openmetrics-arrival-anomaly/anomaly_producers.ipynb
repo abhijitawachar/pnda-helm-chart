{
 "cells": [
  {
   "cell_type": "code",
   "execution_count": null,
   "metadata": {},
   "outputs": [],
   "source": [
    "import json\n",
    "with open('properties.json', 'r') as f:\n",
    "    properties = json.load(f)\n",
    "properties"
   ]
  },
  {
   "cell_type": "code",
   "execution_count": null,
   "metadata": {},
   "outputs": [],
   "source": [
    "brokers = '{}-cp-kafka:9092'.format(properties['pnda-helm-release'])\n",
    "topic = properties['topic']"
   ]
  },
  {
   "cell_type": "code",
   "execution_count": null,
   "metadata": {},
   "outputs": [],
   "source": [
    "import random\n",
    "import time\n",
    "from kafka import KafkaProducer\n",
    "\n",
    "def openmetrics_producer(stop_event,brokers, topic, metric, rate):\n",
    "    producer = KafkaProducer(bootstrap_servers=brokers.split())\n",
    "    print(\"Starting Streaming {} to Kafka: rate {} seconds.\".format(metric,rate))\n",
    "    while not stop_event.wait(rate):\n",
    "        openmetric = '{metric} {value:.2f}'.format(metric=metric, value=random.uniform(0,50))\n",
    "        future = producer.send(\n",
    "            topic,\n",
    "            key=metric.encode('utf-8'),\n",
    "            value= openmetric.encode('utf-8'))\n",
    "        # Block for 'synchronous sends'\n",
    "        record_metadata = future.get(timeout=1)"
   ]
  },
  {
   "cell_type": "code",
   "execution_count": null,
   "metadata": {},
   "outputs": [],
   "source": [
    "import threading\n",
    "\n",
    "producer = KafkaProducer(bootstrap_servers=brokers.split())\n",
    "\n",
    "future = producer.send(\n",
    "            topic,\n",
    "            key='temperature{\"room\"=\"bathroom\"}'.encode('utf-8'),\n",
    "            value= 'temperature{\"room\"=\"bathroom\"} 40.0'.encode('utf-8'))\n",
    "# Block for 'synchronous sends'\n",
    "record_metadata = future.get(timeout=1)"
   ]
  },
  {
   "cell_type": "code",
   "execution_count": null,
   "metadata": {},
   "outputs": [],
   "source": [
    "import threading\n",
    "\n",
    "kill_event = threading.Event()\n",
    "job = threading.Thread(target=openmetrics_producer, args=[kill_event,brokers,topic,'temperature{\"room\"=\"bedroom\"}',0.6])\n",
    "job.start()\n",
    "\n",
    "try:\n",
    "    while True:\n",
    "        pass\n",
    "except KeyboardInterrupt:\n",
    "    print(\"stopping openmetrics generators\")\n",
    "    kill_event.set()\n",
    "    job.join()"
   ]
  }
 ],
 "metadata": {
  "kernelspec": {
   "display_name": "Python 3",
   "language": "python",
   "name": "python3"
  },
  "language_info": {
   "codemirror_mode": {
    "name": "ipython",
    "version": 3
   },
   "file_extension": ".py",
   "mimetype": "text/x-python",
   "name": "python",
   "nbconvert_exporter": "python",
   "pygments_lexer": "ipython3",
   "version": "3.7.3"
  }
 },
 "nbformat": 4,
 "nbformat_minor": 4
}
