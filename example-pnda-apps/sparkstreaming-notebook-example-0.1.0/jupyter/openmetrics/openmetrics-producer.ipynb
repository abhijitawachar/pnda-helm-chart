{
 "cells": [
  {
   "cell_type": "code",
   "execution_count": null,
   "metadata": {},
   "outputs": [],
   "source": [
    "!pip3 install --user kafka-python"
   ]
  },
  {
   "cell_type": "code",
   "execution_count": null,
   "metadata": {},
   "outputs": [],
   "source": [
    "import json\n",
    "with open('properties.json', 'r') as f:\n",
    "    properties = json.load(f)\n",
    "properties"
   ]
  },
  {
   "cell_type": "code",
   "execution_count": null,
   "metadata": {},
   "outputs": [],
   "source": [
    "brokers = '{}-cp-kafka:9092'.format(properties['pnda-helm-release'])\n",
    "topic = properties['topic']"
   ]
  },
  {
   "cell_type": "code",
   "execution_count": null,
   "metadata": {},
   "outputs": [],
   "source": [
    "import pandas as pd\n",
    "from kafka import KafkaProducer\n",
    "from kafka.errors import KafkaError\n",
    "import logging\n",
    "import json\n",
    "import datetime\n",
    "import time\n",
    "import random\n",
    "\n",
    "ids = ['1234','4321','2314','4123']\n",
    "\n",
    "producer = KafkaProducer(bootstrap_servers=[brokers])\n",
    "print(\"Starting Streaming Openmetrics to Kafka. Interrupt the Kernel to Stop.\")\n",
    "while True:\n",
    "  for id in ids:\n",
    "    openmetric = 'bitrate{{id=\"{id}\"}} {value} {timestamp}'.format(id=random.choice(ids),value=int(random.random()*1E7),timestamp=int(datetime.datetime.now().timestamp()*1000)).encode('utf-8')\n",
    "    future = producer.send('openmetrics', openmetric)\n",
    "    openmetric = 'signal_strength{{id=\"{id}\"}} {value:.2f} {timestamp}'.format(id=random.choice(ids),value=random.random()*10,timestamp=int(datetime.datetime.now().timestamp()*1000)).encode('utf-8')\n",
    "    future = producer.send('openmetrics', openmetric)\n",
    "  try:\n",
    "    record_metadata = future.get(timeout=10)\n",
    "  except KafkaError:\n",
    "    # Decide what to do if produce request failed...\n",
    "    logging.exception('Kafka Exception')\n",
    "    pass\n",
    "  time.sleep(5)"
   ]
  }
 ],
 "metadata": {
  "kernelspec": {
   "display_name": "Python 3",
   "language": "python",
   "name": "python3"
  },
  "language_info": {
   "codemirror_mode": {
    "name": "ipython",
    "version": 3
   },
   "file_extension": ".py",
   "mimetype": "text/x-python",
   "name": "python",
   "nbconvert_exporter": "python",
   "pygments_lexer": "ipython3",
   "version": "3.7.3"
  }
 },
 "nbformat": 4,
 "nbformat_minor": 4
}
